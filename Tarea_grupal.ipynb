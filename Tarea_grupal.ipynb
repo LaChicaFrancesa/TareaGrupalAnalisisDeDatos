{
 "cells": [
  {
   "cell_type": "markdown",
   "metadata": {},
   "source": [
    "# Tarea Grupal : Control de versiones"
   ]
  },
  {
   "cell_type": "markdown",
   "metadata": {},
   "source": [
    "## Paso 1"
   ]
  },
  {
   "cell_type": "code",
   "execution_count": 4,
   "metadata": {},
   "outputs": [
    {
     "name": "stdout",
     "output_type": "stream",
     "text": [
      "       Yr   Mn        Date       CO2\n",
      "0    1958    3   1958.2027    315.71\n",
      "1    1958    4   1958.2877    317.45\n",
      "2    1958    5   1958.3699    317.51\n",
      "3    1958    6   1958.4548    -99.99\n",
      "4    1958    7   1958.5370    315.86\n",
      "..    ...  ...         ...       ...\n",
      "746  2020    5   2020.3716    417.15\n",
      "747  2020    6   2020.4563    416.29\n",
      "748  2020    7   2020.5383    414.42\n",
      "749  2020    8   2020.6230    412.52\n",
      "750  2020    9   2020.7077    411.18\n",
      "\n",
      "[751 rows x 4 columns]\n",
      "0.9985250737463127\n",
      "0.9970544918998527\n",
      "0.9955882352941177\n",
      "0.9946236559139785\n",
      "0.9933155080213903\n",
      "0\n",
      "746\n",
      "751\n"
     ]
    }
   ],
   "source": [
    "import pandas as pd\n",
    "\n",
    "def converir_a_df():        \n",
    "    url = 'https://raw.githubusercontent.com/LaChicaFrancesa/TareaGrupalAnalisisDeDatos/main/Grupo_1_data_CO2_short.csv'\n",
    "    \n",
    "    df = pd.read_csv(url, header=0, sep=',', encoding='latin')\n",
    "    return df\n",
    "\n",
    "\n",
    "df = converir_a_df()\n",
    "print(df)\n",
    "\n",
    "\n",
    "\n",
    "CO2 = list(df.iloc[:, -1]) # Creamos una lista que contenga los valores de la última columna\n",
    "\n",
    "\n",
    "for i, valor in enumerate(reversed(CO2)): # Recorremos de forma inversa la lista y buscamos el primer valor negativo, lo almacenamos\n",
    "    indx = 0\n",
    "    if(valor < 0):\n",
    "        indx = len(CO2) + 1 - i\n",
    "        break\n",
    "\n",
    "indx = 0\n",
    "sum = 0\n",
    "for i, valor in enumerate(reversed(CO2)):\n",
    "    \n",
    "    elem = int( valor > 0) # entrega 1 si el valor de co2 es mayor a cero, y 0 cuando el valor de co2 es menos a cero\n",
    "    sum +=elem\n",
    "    if(elem == 0):\n",
    "        print(sum/(i+1)) # muestra la cantidad de valores positivos dividido en el total de elementos recorridos\n",
    "\n",
    "    if(sum/(i+1) <= 0.95):\n",
    "        indx = len(CO2) + 1 - i # muestra el indice donde el intervalo tiene un 95%, o menos de valores validos\n",
    "        break # cuando se cumpla esa condicion sale del loop y se obtiene el indice a tomar para armar el intervalo\n",
    "\n",
    "    \n",
    "print(indx) # indice desde el cual tomar el  intervalo\n",
    "print(sum)  # elementos con valor válido\n",
    "print(len(CO2)) # total de elementos\n",
    "\n",
    "# El intervalo ha utilizar es toda la base de datos "
   ]
  },
  {
   "cell_type": "markdown",
   "metadata": {},
   "source": [
    "## Paso 2"
   ]
  },
  {
   "cell_type": "code",
   "execution_count": 6,
   "metadata": {},
   "outputs": [
    {
     "name": "stdout",
     "output_type": "stream",
     "text": [
      "           Date       CO2\n",
      "0     1958.2027    315.71\n",
      "1     1958.2877    317.45\n",
      "2     1958.3699    317.51\n",
      "3     1958.4548    -99.99\n",
      "4     1958.5370    315.86\n",
      "..          ...       ...\n",
      "746   2020.3716    417.15\n",
      "747   2020.4563    416.29\n",
      "748   2020.5383    414.42\n",
      "749   2020.6230    412.52\n",
      "750   2020.7077    411.18\n",
      "\n",
      "[751 rows x 2 columns]\n",
      "[3, 7, 71, 72, 73]\n",
      "[71, 72, 73]\n",
      "[316.69833034111315, 313.27100478468896, 321.5633817301866, 320.9213490623108, 320.2347307924975]\n",
      "           Date        CO2\n",
      "0     1958.2027  315.71000\n",
      "1     1958.2877  317.45000\n",
      "2     1958.3699  317.51000\n",
      "3     1958.4548  316.69833\n",
      "4     1958.5370  315.86000\n",
      "..          ...        ...\n",
      "746   2020.3716  417.15000\n",
      "747   2020.4563  416.29000\n",
      "748   2020.5383  414.42000\n",
      "749   2020.6230  412.52000\n",
      "750   2020.7077  411.18000\n",
      "\n",
      "[751 rows x 2 columns]\n"
     ]
    }
   ],
   "source": [
    "# Creando la nueva base de datos\n",
    "\n",
    "nuevos_datos = pd.concat([df.iloc[:,-2],df.iloc[:,-1]], axis= 1) #Primer elemento corresponde al date y el otro co2\n",
    "#Con axis = 1, indica que se desea unir por fila (con axis=0 se une por columna)\n",
    "\n",
    "\n",
    "print(nuevos_datos)\n",
    "# Encontrando los intervalos no validos, segun las condiciones dadas\n",
    "intervalos_no_validos = []\n",
    "\n",
    "for i,valor in enumerate(CO2):\n",
    "    if valor < 0:\n",
    "       intervalos_no_validos.append(i) \n",
    "\n",
    "print(intervalos_no_validos)\n",
    "\n",
    "data_frame = nuevos_datos\n",
    "idx = intervalos_no_validos\n",
    "datos_corregidos = []\n",
    "intervalo_negativo = []\n",
    "contador = 0\n",
    "\n",
    "for i in idx:\n",
    "    if data_frame.iloc[i-1,1]>0 and data_frame.iloc[i+1,1]>0:\n",
    "    \n",
    "        a = ((data_frame.iloc[i+1,0]-data_frame.iloc[i-1,0]))\n",
    "        \n",
    "        valor_recta = (1/a)*(((data_frame.iloc[i,0]-data_frame.iloc[i-1,0])*data_frame.iloc[i-1,1])-\\\n",
    "        (data_frame.iloc[i,0]-data_frame.iloc[i+1,0])*data_frame.iloc[i+1,1])\n",
    "\n",
    "        datos_corregidos.append(valor_recta)\n",
    "        \n",
    "    elif data_frame.iloc[i,1]<0:\n",
    "        intervalo_negativo.append(i)\n",
    "\n",
    "print(intervalo_negativo)\n",
    "\n",
    "#Actualizando los intervalos no validos medinate una recta\n",
    "for i in intervalo_negativo:\n",
    "    a = ((data_frame.iloc[intervalo_negativo[len(intervalo_negativo)-1]+1,0]-data_frame.iloc[intervalo_negativo[0]-1,0]))\n",
    "\n",
    "    valor_recta = (1/a)*(((data_frame.iloc[i,0]-data_frame.iloc[intervalo_negativo[0]-1,0])*data_frame.iloc[intervalo_negativo[0]-1,1])-\\\n",
    "    (data_frame.iloc[i,0]-data_frame.iloc[intervalo_negativo[len(intervalo_negativo)-1]+1,0])*data_frame.iloc[intervalo_negativo[len(intervalo_negativo)-1]+1,1])\n",
    "    \n",
    "    datos_corregidos.append(valor_recta)\n",
    "\n",
    "\n",
    "print(datos_corregidos)\n",
    "\n",
    "#Creanndo CO2_completo\n",
    "contador = 0\n",
    "for valor in intervalos_no_validos:\n",
    "    nuevos_datos.iloc[valor,1] = datos_corregidos[contador]\n",
    "    contador +=1\n",
    "CO2_completo = nuevos_datos\n",
    "print(CO2_completo)"
   ]
  },
  {
   "cell_type": "markdown",
   "metadata": {},
   "source": [
    "## Paso 3"
   ]
  },
  {
   "cell_type": "code",
   "execution_count": null,
   "metadata": {},
   "outputs": [],
   "source": []
  },
  {
   "cell_type": "markdown",
   "metadata": {},
   "source": [
    "## Paso 4"
   ]
  },
  {
   "cell_type": "code",
   "execution_count": null,
   "metadata": {},
   "outputs": [],
   "source": []
  },
  {
   "cell_type": "markdown",
   "metadata": {},
   "source": [
    "## Paso 5"
   ]
  },
  {
   "cell_type": "code",
   "execution_count": null,
   "metadata": {},
   "outputs": [],
   "source": []
  },
  {
   "cell_type": "markdown",
   "metadata": {},
   "source": [
    "## Paso 6"
   ]
  },
  {
   "cell_type": "code",
   "execution_count": null,
   "metadata": {},
   "outputs": [],
   "source": []
  }
 ],
 "metadata": {
  "kernelspec": {
   "display_name": "Python 3.8.12 ('herramientas_ent')",
   "language": "python",
   "name": "python3"
  },
  "language_info": {
   "codemirror_mode": {
    "name": "ipython",
    "version": 3
   },
   "file_extension": ".py",
   "mimetype": "text/x-python",
   "name": "python",
   "nbconvert_exporter": "python",
   "pygments_lexer": "ipython3",
   "version": "3.8.12"
  },
  "orig_nbformat": 4,
  "vscode": {
   "interpreter": {
    "hash": "f15d1c62ac5e4dedecc208709a0894970bba1738d62f8ce08c41294f53280a88"
   }
  }
 },
 "nbformat": 4,
 "nbformat_minor": 2
}
